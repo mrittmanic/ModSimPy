{
 "cells": [
  {
   "cell_type": "markdown",
   "metadata": {},
   "source": [
    "# Tire Swing Problem\n",
    "<bk>\n",
    "Meagan Rittmanic and Corinne Wilklow\n",
    "<bk>\n",
    "9 December 2018"
   ]
  },
  {
   "cell_type": "code",
   "execution_count": 1,
   "metadata": {},
   "outputs": [
    {
     "name": "stdout",
     "output_type": "stream",
     "text": [
      "done\n"
     ]
    }
   ],
   "source": [
    "# Configure Jupyter so figures appear in the notebook\n",
    "%matplotlib inline\n",
    "\n",
    "# Configure Jupyter to display the assigned value after an assignment\n",
    "%config InteractiveShell.ast_node_interactivity='last_expr_or_assign'\n",
    "\n",
    "# import functions from the modsim.py module\n",
    "from modsim import *\n",
    "\n",
    "# import numpy\n",
    "import numpy as np\n",
    "\n",
    "# import LaTeX\n",
    "from sympy import *\n",
    "\n",
    "from sympy.printing import latex\n",
    "\n",
    "def show(expr, show_latex=False):\n",
    "    \"\"\"Display a SymPy expression.\n",
    "    \n",
    "    expr: SymPy expression\n",
    "    show_latex: boolean\n",
    "    \"\"\"\n",
    "    if show_latex:\n",
    "        print(latex(expr))\n",
    "    return expr\n",
    "\n",
    "init_printing() \n",
    "\n",
    "#import pictures\n",
    "import matplotlib.pyplot as plt\n",
    "\n",
    "import matplotlib.image as mpimg\n",
    "\n",
    "\n",
    "print('done')"
   ]
  },
  {
   "cell_type": "markdown",
   "metadata": {},
   "source": [
    "## What is the maximum force that someone can push a child on a tire swing before the child falls? "
   ]
  },
  {
   "cell_type": "markdown",
   "metadata": {},
   "source": [
    "We modeled the system of a single child on a tire swing to determine the maximum force that someone can push a tire swing without the child falling. To do this we gathered average weight data and average grip strength data for children ages 6 to 12. "
   ]
  },
  {
   "cell_type": "markdown",
   "metadata": {},
   "source": [
    "### Model"
   ]
  },
  {
   "cell_type": "markdown",
   "metadata": {},
   "source": [
    "First, some equations that will be important to the implementation of our model:"
   ]
  },
  {
   "cell_type": "markdown",
   "metadata": {},
   "source": [
    "$\\frac{d\\theta}{dt} = \\omega $  Where $\\theta$ is angular position, and $\\omega$ is angular velocity.\n",
    "<bk>\n",
    "$\\frac{d\\omega}{dt} = \\alpha = \\frac{d^2\\theta}{dt^2} = \\frac{\\tau}{I_{system}}$ Where $\\tau$ is the torque and $I_{system}$ is the rotational inertia of the system.\n",
    "<bk>\n",
    "$F_{hold} + F_{sf} = \\frac{mv^2}{r} $ Where $F_{hold}$ is the force that the child holds on with, $F_{sf}$ is the force of static friction acting on the child and $\\frac{mv^2}{r}$ is the centripetal force pulling the child off the tire swing."
   ]
  },
  {
   "cell_type": "markdown",
   "metadata": {},
   "source": [
    "Second, a schematic of our model:\n",
    "\n",
    "Notice that, in our model, we chose to assume our tire was horizontal and that it was being spun about its center of rotation and not experiencing any other movement."
   ]
  },
  {
   "cell_type": "code",
   "execution_count": 2,
   "metadata": {},
   "outputs": [
    {
     "data": {
      "image/png": "[encoded data removed]",
      "text/plain": [
       "<Figure size 360x360 with 1 Axes>"
      ]
     },
     "metadata": {
      "needs_background": "light"
     },
     "output_type": "display_data"
    }
   ],
   "source": [
    "plt.figure(figsize=(5,5))\n",
    "\n",
    "myImage = mpimg.imread(\"schematic.PNG\")\n",
    "\n",
    "myImage = plt.imshow(myImage)\n",
    "\n",
    "plt.axis('off')\n",
    "\n",
    "plt.show() "
   ]
  },
  {
   "cell_type": "markdown",
   "metadata": {},
   "source": [
    "To implement our model, we started by importing the various units that we needed."
   ]
  },
  {
   "cell_type": "code",
   "execution_count": 3,
   "metadata": {},
   "outputs": [
    {
     "data": {
      "text/html": [
       "radian"
      ],
      "text/latex": [
       "$radian$"
      ],
      "text/plain": [
       "<Unit('radian')>"
      ]
     },
     "execution_count": 3,
     "metadata": {},
     "output_type": "execute_result"
    }
   ],
   "source": [
    "m = UNITS.meter\n",
    "s = UNITS.second\n",
    "kg = UNITS.kilogram\n",
    "degree = UNITS.degree\n",
    "N = UNITS.newton\n",
    "rad = UNITS.radian"
   ]
  },
  {
   "cell_type": "markdown",
   "metadata": {},
   "source": [
    "We created a params object to hold the parameters that we would need for our project, including units. Everything that was in units of Newtons we converted to kilograms * meters/second^2  because the library we are using has trouble with that conversion.\n",
    "<bk>\n",
    "Our data on the grip strength of children of various ages comes from [this study](https://ajot.aota.org/article.aspx?articleid=1884114), and the average mass of children of different ages comes from [here](https://www.disabled-world.com/calculators-charts/height-weight-teens.php). We found the coefficient of friction between the clothing of the child (fabric) and the tire (rubber) from [this study](http://www.ircobi.org/wordpress/downloads/irc16-asia/pdf-files/48.pdf), which claimed that the coefficient between fabric and rubber was approximately 1. We found that the mass of the tire swing (a truck tire) was about 120 lbs, or 54.54 kg, from [here](http://www.energyjustice.net/files/tires/files/scrapchn.html). Our tire size data came from [this website](https://www.tirerack.com/tires/tiretech/techpage.jsp?techid=53), where we chose a one meter outer radius and a 0.5 meter inner radius because it is within the higher part of the range of average tire sizes, and somewhat large tires are usually used for tire swings. We assumed the radius of the child to be a little less than our own physical radii, so we estimated it to be about 0.09 m. We chose the initial duration of the push to be one full rotation of the tire swing.\n",
    "<bk>\n",
    "For our first run of our model, we also decided to use the average grip strength and mass of a 6-year-old child.\n"
   ]
  },
  {
   "cell_type": "code",
   "execution_count": 4,
   "metadata": {},
   "outputs": [
    {
     "data": {
      "text/html": [
       "<div>\n",
       "<style scoped>\n",
       "    .dataframe tbody tr th:only-of-type {\n",
       "        vertical-align: middle;\n",
       "    }\n",
       "\n",
       "    .dataframe tbody tr th {\n",
       "        vertical-align: top;\n",
       "    }\n",
       "\n",
       "    .dataframe thead th {\n",
       "        text-align: right;\n",
       "    }\n",
       "</style>\n",
       "<table border=\"1\" class=\"dataframe\">\n",
       "  <thead>\n",
       "    <tr style=\"text-align: right;\">\n",
       "      <th></th>\n",
       "      <th>values</th>\n",
       "    </tr>\n",
       "  </thead>\n",
       "  <tbody>\n",
       "    <tr>\n",
       "      <th>child_strength</th>\n",
       "      <td>132.0 kilogram * meter / second ** 2</td>\n",
       "    </tr>\n",
       "    <tr>\n",
       "      <th>mass_child</th>\n",
       "      <td>16 kilogram</td>\n",
       "    </tr>\n",
       "    <tr>\n",
       "      <th>mu_friction</th>\n",
       "      <td>1</td>\n",
       "    </tr>\n",
       "    <tr>\n",
       "      <th>g</th>\n",
       "      <td>9.81 meter / second ** 2</td>\n",
       "    </tr>\n",
       "    <tr>\n",
       "      <th>mass_tire_swing</th>\n",
       "      <td>54.54 kilogram</td>\n",
       "    </tr>\n",
       "    <tr>\n",
       "      <th>radius_child</th>\n",
       "      <td>0.09 meter</td>\n",
       "    </tr>\n",
       "    <tr>\n",
       "      <th>duration_push</th>\n",
       "      <td>6.283185307179586 radian</td>\n",
       "    </tr>\n",
       "    <tr>\n",
       "      <th>radius_inside_tire</th>\n",
       "      <td>0.5 meter</td>\n",
       "    </tr>\n",
       "    <tr>\n",
       "      <th>radius_outside_tire</th>\n",
       "      <td>1 meter</td>\n",
       "    </tr>\n",
       "    <tr>\n",
       "      <th>t_end</th>\n",
       "      <td>30 second</td>\n",
       "    </tr>\n",
       "  </tbody>\n",
       "</table>\n",
       "</div>"
      ],
      "text/plain": [
       "child_strength         132.0 kilogram * meter / second ** 2\n",
       "mass_child                                      16 kilogram\n",
       "mu_friction                                               1\n",
       "g                                  9.81 meter / second ** 2\n",
       "mass_tire_swing                              54.54 kilogram\n",
       "radius_child                                     0.09 meter\n",
       "duration_push                      6.283185307179586 radian\n",
       "radius_inside_tire                                0.5 meter\n",
       "radius_outside_tire                                 1 meter\n",
       "t_end                                             30 second\n",
       "dtype: object"
      ]
     },
     "execution_count": 4,
     "metadata": {},
     "output_type": "execute_result"
    }
   ],
   "source": [
    "params = Params(child_strength = 132 * kg*m/(s**2),     #grip strength of child for one hand\n",
    "                mass_child = 16 * kg,     #mass of child\n",
    "                mu_friction = 1,     #coefficient of friction between the child's pants and the tire\n",
    "                g = 9.81 * m/(s**2),     #acceleration due to gravity\n",
    "                mass_tire_swing = 54.54 * kg,      #mass of tire swing\n",
    "                radius_child = .09 * m,     #radius of child\n",
    "                duration_push = np.pi*2 * rad,     #duration of the push in terms of change in angular displacement\n",
    "                radius_inside_tire = 0.5 * m,     #radius of the inner loop of the tire\n",
    "                radius_outside_tire = 1 *m,     #radius of the outer loop of the tire\n",
    "                t_end = 30 * s)     #end time, larger than expected duration of the push"
   ]
  },
  {
   "cell_type": "markdown",
   "metadata": {},
   "source": [
    "We then created our system, creating a state with $\\theta$, or the angular position, and $\\omega$, or angular velocity. We also calculated the force of friction based on the mass of our child, the value of the acceleration due to gravity, and the coefficient of friction between our child and the tire. We took the average of the inner and outer radii of our tire to be the radius between the center of mass of our child and the center of rotation, the center of the tire swing. We also included the force of the starting push."
   ]
  },
  {
   "cell_type": "code",
   "execution_count": 5,
   "metadata": {},
   "outputs": [],
   "source": [
    "def make_system(theta, omega, F_push, params):\n",
    "    \"\"\"Make a system object.\n",
    "    \n",
    "    params: Params object with angle, velocity, mu, \n",
    "             duration, g, masses, radii, and t_end\n",
    "               \n",
    "    returns: System object\n",
    "    \"\"\"\n",
    "    unpack(params)\n",
    "    \n",
    "    init = State (theta=theta * rad, omega=omega * rad/s)     #state with initial values\n",
    "    F_friction = mass_child * g * mu_friction     #Force of friction holding the child on the tire swing\n",
    "    radius_to_child = (radius_inside_tire + radius_outside_tire)/2     #radius from the center of tire to child\n",
    "    F_push = F_push * kg *m/(s**2)     #Force of the initial push\n",
    "    \n",
    "    return System(params, F_friction=F_friction, radius_to_child = radius_to_child, F_push = F_push, init=init)"
   ]
  },
  {
   "cell_type": "code",
   "execution_count": 6,
   "metadata": {},
   "outputs": [
    {
     "data": {
      "text/html": [
       "<div>\n",
       "<style scoped>\n",
       "    .dataframe tbody tr th:only-of-type {\n",
       "        vertical-align: middle;\n",
       "    }\n",
       "\n",
       "    .dataframe tbody tr th {\n",
       "        vertical-align: top;\n",
       "    }\n",
       "\n",
       "    .dataframe thead th {\n",
       "        text-align: right;\n",
       "    }\n",
       "</style>\n",
       "<table border=\"1\" class=\"dataframe\">\n",
       "  <thead>\n",
       "    <tr style=\"text-align: right;\">\n",
       "      <th></th>\n",
       "      <th>values</th>\n",
       "    </tr>\n",
       "  </thead>\n",
       "  <tbody>\n",
       "    <tr>\n",
       "      <th>child_strength</th>\n",
       "      <td>132.0 kilogram * meter / second ** 2</td>\n",
       "    </tr>\n",
       "    <tr>\n",
       "      <th>mass_child</th>\n",
       "      <td>16 kilogram</td>\n",
       "    </tr>\n",
       "    <tr>\n",
       "      <th>mu_friction</th>\n",
       "      <td>1</td>\n",
       "    </tr>\n",
       "    <tr>\n",
       "      <th>g</th>\n",
       "      <td>9.81 meter / second ** 2</td>\n",
       "    </tr>\n",
       "    <tr>\n",
       "      <th>mass_tire_swing</th>\n",
       "      <td>54.54 kilogram</td>\n",
       "    </tr>\n",
       "    <tr>\n",
       "      <th>radius_child</th>\n",
       "      <td>0.09 meter</td>\n",
       "    </tr>\n",
       "    <tr>\n",
       "      <th>duration_push</th>\n",
       "      <td>6.283185307179586 radian</td>\n",
       "    </tr>\n",
       "    <tr>\n",
       "      <th>radius_inside_tire</th>\n",
       "      <td>0.5 meter</td>\n",
       "    </tr>\n",
       "    <tr>\n",
       "      <th>radius_outside_tire</th>\n",
       "      <td>1 meter</td>\n",
       "    </tr>\n",
       "    <tr>\n",
       "      <th>t_end</th>\n",
       "      <td>30 second</td>\n",
       "    </tr>\n",
       "    <tr>\n",
       "      <th>F_friction</th>\n",
       "      <td>156.96 kilogram * meter / second ** 2</td>\n",
       "    </tr>\n",
       "    <tr>\n",
       "      <th>radius_to_child</th>\n",
       "      <td>0.75 meter</td>\n",
       "    </tr>\n",
       "    <tr>\n",
       "      <th>F_push</th>\n",
       "      <td>20.0 kilogram * meter / second ** 2</td>\n",
       "    </tr>\n",
       "    <tr>\n",
       "      <th>init</th>\n",
       "      <td>theta               0 radian\n",
       "omega    0.0 radi...</td>\n",
       "    </tr>\n",
       "  </tbody>\n",
       "</table>\n",
       "</div>"
      ],
      "text/plain": [
       "child_strength                      132.0 kilogram * meter / second ** 2\n",
       "mass_child                                                   16 kilogram\n",
       "mu_friction                                                            1\n",
       "g                                               9.81 meter / second ** 2\n",
       "mass_tire_swing                                           54.54 kilogram\n",
       "radius_child                                                  0.09 meter\n",
       "duration_push                                   6.283185307179586 radian\n",
       "radius_inside_tire                                             0.5 meter\n",
       "radius_outside_tire                                              1 meter\n",
       "t_end                                                          30 second\n",
       "F_friction                         156.96 kilogram * meter / second ** 2\n",
       "radius_to_child                                               0.75 meter\n",
       "F_push                               20.0 kilogram * meter / second ** 2\n",
       "init                   theta               0 radian\n",
       "omega    0.0 radi...\n",
       "dtype: object"
      ]
     },
     "execution_count": 6,
     "metadata": {},
     "output_type": "execute_result"
    }
   ],
   "source": [
    "system = make_system(0, 0, 20, params)"
   ]
  },
  {
   "cell_type": "markdown",
   "metadata": {},
   "source": [
    "Next, we created a slope function, finding the change in theta and change in omega throughout the duration of the push.  In order to find alpha, our change in angular velocity, we used the equation $\\tau\\ = I\\alpha$, with $\\tau$ being torque, $I$ being rotational inertia of the system, and $\\alpha$ being the change in rotational velocity. We found the rotational inertia of the tire-swing-child system by finding the sum of the rotational inertia of the tire swing and the rotational inertia of the child (which we approximated to be a cylinder). To find the rotational inertia of the child, we used the parallel axis theorem because the child was not rotating about its center of mass."
   ]
  },
  {
   "cell_type": "code",
   "execution_count": 7,
   "metadata": {},
   "outputs": [],
   "source": [
    "def slope_func(state, t, system):\n",
    "    '''Make a slope function that \n",
    "        takes into account the rotational inertia of both objects, \n",
    "        applies a torque, \n",
    "        and returns the change in theta and change in omega'''\n",
    "    \n",
    "    theta, omega = state\n",
    "    unpack (system)\n",
    "    \n",
    "    Torque = radius_outside_tire * F_push\n",
    "    \n",
    "    I_tire = .5*mass_tire_swing*(radius_inside_tire**2 + radius_outside_tire**2)     #rotational inertia of tire swing\n",
    "    I_child = .5*mass_child*radius_child**2 + mass_child * (radius_to_child)**2     #rotational inertia of child\n",
    "    I_system = I_tire + I_child    #rotational intertia of system\n",
    "    \n",
    "    alpha = Torque / I_system\n",
    "    \n",
    "    d_theta_dt = omega\n",
    "    d_omega_dt = alpha\n",
    "    \n",
    "    return d_theta_dt, d_omega_dt"
   ]
  },
  {
   "cell_type": "markdown",
   "metadata": {},
   "source": [
    "We made an event function to stop the push when the desired duration of the push was reached. For our first run, this duration was one full rotation."
   ]
  },
  {
   "cell_type": "code",
   "execution_count": 8,
   "metadata": {},
   "outputs": [],
   "source": [
    "def event_func(state, t, system):\n",
    "    \n",
    "    '''Make an event function that stops the ODE solver from running when the push ends'''\n",
    "    \n",
    "    theta, omega = state\n",
    "    unpack (system)\n",
    "    \n",
    "    return theta - duration_push"
   ]
  },
  {
   "cell_type": "markdown",
   "metadata": {},
   "source": [
    "We created an error function to find the force of the push that would make the force of static friction between the child’s clothing and the tire added to the strength of the child holding onto the tire swing equal to $\\frac{mv^2}{r}$, with $m$ being the mass of the child, $v$ being the linear velocity of the child, and $r$ being the radius between the center of rotation and the child. We used this equation because it is the version of Newton’s second law that can be applied to rotational kinematics, in which a force changes the direction of linear velocity as opposed to the magnitude of linear velocity. For each run of the error function, we made a system with the given force of the push, and then we ran our slope function through our ODE solver, returning the final value of rotational velocity. We then multiplied that value by the radius to the child to find our final linear velocity. Finally, we found the maximum strength that the child can exert to keep themselves on the swing by multiplying their grip strength by two hands. We chose to assume that their legs on the inside of the tire swing do not hold them on the swing because if the child’s hands slip, they have essentially fallen off the swing for our purposes, considering safety of the child more than strictly falling off.\n",
    "<bk>\n",
    "We ran our error function with a test force of 5 Newtons, printing $F_{push}$ and the final difference for each run of the function.\n"
   ]
  },
  {
   "cell_type": "code",
   "execution_count": 9,
   "metadata": {},
   "outputs": [],
   "source": [
    "def error_func(F_push, system):\n",
    "    \n",
    "    '''Define an error func that outputs the difference between the combined grip strength and frictional force \n",
    "    holding child to the tire swing and total force acting on them'''\n",
    "    \n",
    "    system = make_system(0, 0, F_push, params)\n",
    "    results, details = run_ode_solver(system, slope_func, events=event_func)\n",
    "    omega_final = get_last_value(results.omega)\n",
    "    \n",
    "    v_final = omega_final*radius_to_child / s\n",
    "    \n",
    "    print (F_push)\n",
    "    print (system.child_strength + system.F_friction - ( system.mass_child * v_final**2)/radius_to_child)\n",
    "    \n",
    "    return system.child_strength*2 + system.F_friction - ( system.mass_child * v_final**2)/radius_to_child"
   ]
  },
  {
   "cell_type": "code",
   "execution_count": 10,
   "metadata": {},
   "outputs": [
    {
     "name": "stdout",
     "output_type": "stream",
     "text": [
      "5\n",
      "271.4874148339358 kilogram * meter / second ** 2\n"
     ]
    },
    {
     "data": {
      "text/html": [
       "403.4874148339358 kilogram meter/second<sup>2</sup>"
      ],
      "text/latex": [
       "$403.4874148339358 \\frac{kilogram \\cdot meter}{second^{2}}$"
      ],
      "text/plain": [
       "<Quantity(403.4874148339358, 'kilogram * meter / second ** 2')>"
      ]
     },
     "execution_count": 10,
     "metadata": {},
     "output_type": "execute_result"
    }
   ],
   "source": [
    "error_func(5, system)"
   ]
  },
  {
   "cell_type": "markdown",
   "metadata": {},
   "source": [
    "We ran fsolve using our error function, finding that, for a 6-year-old child and a push that lasts one full rotation, the maximum average force one can push the swing at is 120.5 Newtons."
   ]
  },
  {
   "cell_type": "code",
   "execution_count": 11,
   "metadata": {},
   "outputs": [
    {
     "name": "stdout",
     "output_type": "stream",
     "text": [
      "5\n",
      "271.4874148339358 kilogram * meter / second ** 2\n",
      "[5]\n",
      "271.4874148339358 kilogram * meter / second ** 2\n",
      "[5.]\n",
      "271.4874148339358 kilogram * meter / second ** 2\n",
      "[5.]\n",
      "271.4874148339358 kilogram * meter / second ** 2\n",
      "[5.00000007]\n",
      "271.4874145735741 kilogram * meter / second ** 2\n",
      "[120.46303289]\n",
      "-132.00012031357875 kilogram * meter / second ** 2\n",
      "[120.46299846]\n",
      "-131.99999999999994 kilogram * meter / second ** 2\n"
     ]
    },
    {
     "data": {
      "text/html": [
       "[120.46299846] newton"
      ],
      "text/latex": [
       "$[120.46299846] newton$"
      ],
      "text/plain": [
       "<Quantity([120.46299846], 'newton')>"
      ]
     },
     "execution_count": 11,
     "metadata": {},
     "output_type": "execute_result"
    }
   ],
   "source": [
    "fsolve(error_func, 5, system) * N"
   ]
  },
  {
   "cell_type": "markdown",
   "metadata": {},
   "source": [
    "In order to further iterate on our system, we imported a Dataframe with data referring to child average mass and grip strength with respect to age."
   ]
  },
  {
   "cell_type": "code",
   "execution_count": 12,
   "metadata": {},
   "outputs": [
    {
     "data": {
      "text/html": [
       "<div>\n",
       "<style scoped>\n",
       "    .dataframe tbody tr th:only-of-type {\n",
       "        vertical-align: middle;\n",
       "    }\n",
       "\n",
       "    .dataframe tbody tr th {\n",
       "        vertical-align: top;\n",
       "    }\n",
       "\n",
       "    .dataframe thead th {\n",
       "        text-align: right;\n",
       "    }\n",
       "</style>\n",
       "<table border=\"1\" class=\"dataframe\">\n",
       "  <thead>\n",
       "    <tr style=\"text-align: right;\">\n",
       "      <th></th>\n",
       "      <th>Mass</th>\n",
       "      <th>Grip</th>\n",
       "    </tr>\n",
       "    <tr>\n",
       "      <th>Age</th>\n",
       "      <th></th>\n",
       "      <th></th>\n",
       "    </tr>\n",
       "  </thead>\n",
       "  <tbody>\n",
       "    <tr>\n",
       "      <th>6</th>\n",
       "      <td>15.873</td>\n",
       "      <td>132.165</td>\n",
       "    </tr>\n",
       "    <tr>\n",
       "      <th>8</th>\n",
       "      <td>25.737</td>\n",
       "      <td>165.985</td>\n",
       "    </tr>\n",
       "    <tr>\n",
       "      <th>10</th>\n",
       "      <td>31.973</td>\n",
       "      <td>219.385</td>\n",
       "    </tr>\n",
       "    <tr>\n",
       "      <th>12</th>\n",
       "      <td>40.703</td>\n",
       "      <td>246.975</td>\n",
       "    </tr>\n",
       "  </tbody>\n",
       "</table>\n",
       "</div>"
      ],
      "text/plain": [
       "       Mass     Grip\n",
       "Age                 \n",
       "6    15.873  132.165\n",
       "8    25.737  165.985\n",
       "10   31.973  219.385\n",
       "12   40.703  246.975"
      ]
     },
     "execution_count": 12,
     "metadata": {},
     "output_type": "execute_result"
    }
   ],
   "source": [
    "child_data = pd.read_csv('child_data.csv', index_col = 0)"
   ]
  },
  {
   "cell_type": "markdown",
   "metadata": {},
   "source": [
    "We added units to the data, with kilograms as the unit of mass and Newtons (or kilograms * meters / second^2) as the unit of force."
   ]
  },
  {
   "cell_type": "code",
   "execution_count": 13,
   "metadata": {},
   "outputs": [],
   "source": [
    "child_data.Mass.units = kg\n",
    "child_data.Grip.units = kg * m / s**2"
   ]
  },
  {
   "cell_type": "markdown",
   "metadata": {},
   "source": [
    "We created a second error function identical to our first except that it does not print the force of the push or the final difference.\n"
   ]
  },
  {
   "cell_type": "code",
   "execution_count": 14,
   "metadata": {},
   "outputs": [],
   "source": [
    "def error_func_2(F_push, system):\n",
    "    \n",
    "    '''Define an error func that outputs the difference between the combined grip strength and frictional force \n",
    "    holding child to the tire swing and total force acting on them'''\n",
    "    system = make_system(0, 0, F_push, params)\n",
    "    \n",
    "    results, details = run_ode_solver(system, slope_func, \n",
    "                                  events=event_func)\n",
    "    omega_final = get_last_value(results.omega)\n",
    "    \n",
    "    v_final = omega_final*radius_to_child / s\n",
    "    \n",
    "    return system.child_strength*2 + system.F_friction - ( system.mass_child * v_final**2)/radius_to_child"
   ]
  },
  {
   "cell_type": "markdown",
   "metadata": {},
   "source": [
    "In order to run through the values for each age, we created an array with the four different ages we had data for. In the for loop, we made a new params object that changed the parameters so they aligned with the mass and grip strength of that age of child. We then made a system and ran our fsolve function, finding the maximum force for each age."
   ]
  },
  {
   "cell_type": "code",
   "execution_count": 15,
   "metadata": {},
   "outputs": [
    {
     "name": "stdout",
     "output_type": "stream",
     "text": [
      "6 [120.55743211]\n",
      "8 [139.91346883]\n",
      "10 [170.47563207]\n",
      "12 [186.26608307]\n"
     ]
    }
   ],
   "source": [
    "array = np.array([6, 8, 10, 12])\n",
    "for Age in array:\n",
    "    params = Params(params, child_strength = child_data.loc[Age][\"Grip\"] * kg*m/s**2, \n",
    "                    child_mass = child_data.loc[Age][\"Mass\"] * kg)\n",
    "    system = make_system(0, 0, F_push, params)\n",
    "    Force = fsolve(error_func_2, 300, system)\n",
    "    print (Age, Force)"
   ]
  },
  {
   "cell_type": "markdown",
   "metadata": {},
   "source": [
    "### Results and Interpretation\n",
    "<bk>\n",
    "We graphed our findings, modeling maximum force of push with respect to age for a push with a duration of one full rotation."
   ]
  },
  {
   "cell_type": "code",
   "execution_count": 16,
   "metadata": {},
   "outputs": [
    {
     "data": {
      "image/png": "[encoded data removed]",
      "text/plain": [
       "<Figure size 432x288 with 1 Axes>"
      ]
     },
     "metadata": {
      "needs_background": "light"
     },
     "output_type": "display_data"
    }
   ],
   "source": [
    "Age = array\n",
    "Force = np.array([120.56, 139.91, 170.47, 186.27])\n",
    "plt.plot(Age, Force, 'o')\n",
    "decorate(xlabel = 'Age (years)',\n",
    "        ylabel = 'Force (Newtons)',\n",
    "        title = 'Max Force Before Fall')"
   ]
  },
  {
   "cell_type": "markdown",
   "metadata": {},
   "source": [
    "This graph answers our initial question, \"What is the maximum force that someone can push a child on a tire swing before the child falls?\" for a push lasting one full rotation. It shows that for an average 6-year-old child, the maximum force one can push with is 120.5 Newtons. For an average 8-year-old child, the maximum force one can push with is 139.9 Newtons. For an average 10-year-old child, the maximum force one can push with is 170.4 Newtons. Finally, for an average 12-year-old child, the maximum force one can push with is 186.2 Newtons.\n",
    "\n",
    "While this answer is useful, it is somewhat limited. It does not take into account the variability of force that someone could apply throughout a push, or ways the tire swing could move that are not strictly spinning, such as a larger rotation or a more pendulum-like motion.\n",
    "\n",
    "Additionally, something that could make this answer even more useful is to make it more accessible. The rest of this model and explanation attempts to achieve that goal."
   ]
  },
  {
   "cell_type": "markdown",
   "metadata": {},
   "source": [
    "We then graphed our findings with respect to mass of child so that people who had unusually large or small children for that age might be able to more accurately define which maximum force of push they should use."
   ]
  },
  {
   "cell_type": "code",
   "execution_count": 17,
   "metadata": {},
   "outputs": [
    {
     "data": {
      "image/png": "[encoded data removed]",
      "text/plain": [
       "<Figure size 432x288 with 1 Axes>"
      ]
     },
     "metadata": {
      "needs_background": "light"
     },
     "output_type": "display_data"
    }
   ],
   "source": [
    "Mass = np.array([15.87301587, 25.73696145, 31.97278912, 40.70294785])\n",
    "plt.plot(Mass, Force, 'o')\n",
    "decorate (title = 'Max Force Before Fall Based on Mass',\n",
    "         xlabel = 'Mass of Child (kilograms)',\n",
    "         ylabel = 'Force (Newtons)')"
   ]
  },
  {
   "cell_type": "markdown",
   "metadata": {},
   "source": [
    "We then modeled a slightly different scenario, taking into account that some people might push in a single, quicker push as opposed to a push that lasted an entire rotation. We ran the simulation again with the push lasting only a quarter rotation, more of a single, quick push as opposed to a continuous push."
   ]
  },
  {
   "cell_type": "code",
   "execution_count": 18,
   "metadata": {},
   "outputs": [
    {
     "name": "stdout",
     "output_type": "stream",
     "text": [
      "6 [482.22972845]\n",
      "8 [559.65387532]\n",
      "10 [681.90252826]\n",
      "12 [745.06433228]\n"
     ]
    },
    {
     "data": {
      "image/png": "[encoded data removed]",
      "text/plain": [
       "<Figure size 432x288 with 1 Axes>"
      ]
     },
     "metadata": {
      "needs_background": "light"
     },
     "output_type": "display_data"
    }
   ],
   "source": [
    "system.duration_push = np.pi/2\n",
    "array = np.array([6, 8, 10, 12])\n",
    "for Age in array:\n",
    "    params = Params(params, child_strength = child_data.loc[Age][\"Grip\"] * kg*m/s**2, \n",
    "                    child_mass = child_data.loc[Age][\"Mass\"] * kg,\n",
    "                   duration_push = np.pi/2 * rad)\n",
    "    system = make_system(0, 0, F_push, params)\n",
    "    Force = fsolve(error_func_2, 300, system)\n",
    "    print (Age, Force)\n",
    "Age = array\n",
    "Force = np.array([482.23, 559.65, 681.90, 745.06])\n",
    "plt.plot(Age, Force, 'o')\n",
    "decorate(xlabel = 'Age (years)',\n",
    "        ylabel = 'Force (Newtons)',\n",
    "        title = 'Max Force Before Fall based on Age')    "
   ]
  },
  {
   "cell_type": "markdown",
   "metadata": {},
   "source": [
    "We also graphed this data based on mass of child."
   ]
  },
  {
   "cell_type": "code",
   "execution_count": 19,
   "metadata": {},
   "outputs": [
    {
     "data": {
      "image/png": "[encoded data removed]",
      "text/plain": [
       "<Figure size 432x288 with 1 Axes>"
      ]
     },
     "metadata": {
      "needs_background": "light"
     },
     "output_type": "display_data"
    }
   ],
   "source": [
    "Mass = np.array([15.87301587, 25.73696145, 31.97278912, 40.70294785])\n",
    "plt.plot(Mass, Force, 'o')\n",
    "decorate (title = 'Max Force Before Fall Based on Mass',\n",
    "         xlabel = 'Mass of Child (kilograms)',\n",
    "         ylabel = 'Force (Newtons)')"
   ]
  },
  {
   "cell_type": "markdown",
   "metadata": {},
   "source": [
    "\n",
    "<bk>\n",
    "To get our information about perspective in reference to various weights, we used these sources:\n",
    "\n",
    "[20 lbs](http://shailah.blogspot.com/2011/11/random-things-that-weigh-20-lbs.html), \n",
    "[30 lbs](https://2fluffy2long.wordpress.com/what-things-weigh-weight-loss-reference/), \n",
    "[Converting Newtons to Pounds](http://www.kylesconverter.com/force/newtons-to-pounds--force), and\n",
    "[Lager weights](http://www.ewtaz.com/images/uploads/average-weight-furniture-2.pdf).\n",
    "<bk>\n",
    "In order to make this data more accessible, 120.56 Newtons is 27.1 pounds of force, 139.91 Newtons is 31.45 pounds of force, 170.48 Newtons is 38.33 pounds of force, and 186.27 Newtons is 41.88 pounds of force.\n",
    "To put that in perspective, 20 pounds is about the weight of a small to medium sized dog, a regular car tire, a kitchen aid mixer, or a one-year-old. 30 pounds is about the weight of an average toddler or a cinder block. 36 pounds is about the weight of a microwave. For a full rotation, a fairly strong push might send a kid falling off.  \n",
    "    \n",
    "    \n",
    "\n",
    "For the second run, with the force of the push lasting for 1/4 rotation, 482.23 Newtons is 108.41 pounds of force, 559.65 Newtons is 125.81 pounds of force, 681.9 Newtons is 153.3 pounds of force, and 745.06 Newtons is 167.5 pounds of force.\n",
    "<bk>\n",
    "To put that in perspective, 80 pounds is about the weight of a medium-sized TV, 100 pounds is about the weight of a toilet, and 150 pounds is about the weight of a 3-cushion sofa. For this short of a push, it would be very difficult to push hard enough that a child would fall off the tire swing."
   ]
  },
  {
   "cell_type": "code",
   "execution_count": null,
   "metadata": {},
   "outputs": [],
   "source": []
  }
 ],
 "metadata": {
  "kernelspec": {
   "display_name": "Python 3",
   "language": "python",
   "name": "python3"
  },
  "language_info": {
   "codemirror_mode": {
    "name": "ipython",
    "version": 3
   },
   "file_extension": ".py",
   "mimetype": "text/x-python",
   "name": "python",
   "nbconvert_exporter": "python",
   "pygments_lexer": "ipython3",
   "version": "3.6.6"
  }
 },
 "nbformat": 4,
 "nbformat_minor": 2
}
