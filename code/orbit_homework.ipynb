{
 "cells": [
  {
   "cell_type": "markdown",
   "metadata": {},
   "source": [
    "# Modeling the Earth Orbiting Around the Sun\n",
    "\n",
    "Meagan Rittmanic\n"
   ]
  },
  {
   "cell_type": "code",
   "execution_count": 154,
   "metadata": {},
   "outputs": [
    {
     "data": {
      "text/plain": [
       "<pint.unit.UnitRegistry at 0x1e386ea77b8>"
      ]
     },
     "execution_count": 154,
     "metadata": {},
     "output_type": "execute_result"
    }
   ],
   "source": [
    "# Configure Jupyter so figures appear in the notebook\n",
    "%matplotlib inline\n",
    "\n",
    "# Configure Jupyter to display the assigned value after an assignment\n",
    "%config InteractiveShell.ast_node_interactivity='last_expr_or_assign'\n",
    "\n",
    "# import functions from the modsim.py module\n",
    "from modsim import *\n",
    "\n",
    "from pint import UnitRegistry\n",
    "unit = UnitRegistry()"
   ]
  },
  {
   "cell_type": "markdown",
   "metadata": {},
   "source": [
    "### Exercises\n",
    "\n",
    "**Exercise:** Here's a question from the web site [Ask an Astronomer](http://curious.astro.cornell.edu/about-us/39-our-solar-system/the-earth/other-catastrophes/57-how-long-would-it-take-the-earth-to-fall-into-the-sun-intermediate):\n",
    "\n",
    "\"If the Earth suddenly stopped orbiting the Sun, I know eventually it would be pulled in by the Sun's gravity and hit it. How long would it take the Earth to hit the Sun? I imagine it would go slowly at first and then pick up speed.\"\n",
    "\n",
    "Use `run_ode_solver` to answer this question.\n",
    "\n",
    "Here are some suggestions about how to proceed:\n",
    "\n",
    "1.  Look up the Law of Universal Gravitation and any constants you need.  I suggest you work entirely in SI units: meters, kilograms, and Newtons.\n",
    "\n",
    "2.  When the distance between the Earth and the Sun gets small, this system behaves badly, so you should use an event function to stop when the surface of Earth reaches the surface of the Sun.\n",
    "\n",
    "3. Express your answer in days, and plot the results as millions of kilometers versus days.\n",
    "\n",
    "If you read the reply by Dave Rothstein, you will see other ways to solve the problem, and a good discussion of the modeling decisions behind them.\n",
    "\n",
    "You might also be interested to know that [it's actually not that easy to get to the Sun](https://www.theatlantic.com/science/archive/2018/08/parker-solar-probe-launch-nasa/567197/)."
   ]
  },
  {
   "cell_type": "code",
   "execution_count": 184,
   "metadata": {},
   "outputs": [
    {
     "data": {
      "text/html": [
       "<div>\n",
       "<style scoped>\n",
       "    .dataframe tbody tr th:only-of-type {\n",
       "        vertical-align: middle;\n",
       "    }\n",
       "\n",
       "    .dataframe tbody tr th {\n",
       "        vertical-align: top;\n",
       "    }\n",
       "\n",
       "    .dataframe thead th {\n",
       "        text-align: right;\n",
       "    }\n",
       "</style>\n",
       "<table border=\"1\" class=\"dataframe\">\n",
       "  <thead>\n",
       "    <tr style=\"text-align: right;\">\n",
       "      <th></th>\n",
       "      <th>values</th>\n",
       "    </tr>\n",
       "  </thead>\n",
       "  <tbody>\n",
       "    <tr>\n",
       "      <th>init</th>\n",
       "      <td>x     1.496000e+11\n",
       "y     0.000000e+00\n",
       "vx    0....</td>\n",
       "    </tr>\n",
       "    <tr>\n",
       "      <th>me</th>\n",
       "      <td>5.972e+24</td>\n",
       "    </tr>\n",
       "    <tr>\n",
       "      <th>ms</th>\n",
       "      <td>1.989e+30</td>\n",
       "    </tr>\n",
       "    <tr>\n",
       "      <th>G</th>\n",
       "      <td>6.67408e-11</td>\n",
       "    </tr>\n",
       "    <tr>\n",
       "      <th>t_end</th>\n",
       "      <td>2e+11</td>\n",
       "    </tr>\n",
       "    <tr>\n",
       "      <th>r</th>\n",
       "      <td>1.496e+11</td>\n",
       "    </tr>\n",
       "  </tbody>\n",
       "</table>\n",
       "</div>"
      ],
      "text/plain": [
       "init     x     1.496000e+11\n",
       "y     0.000000e+00\n",
       "vx    0....\n",
       "me                                               5.972e+24\n",
       "ms                                               1.989e+30\n",
       "G                                              6.67408e-11\n",
       "t_end                                                2e+11\n",
       "r                                                1.496e+11\n",
       "dtype: object"
      ]
     },
     "execution_count": 184,
     "metadata": {},
     "output_type": "execute_result"
    }
   ],
   "source": [
    "init = State(x=149.60e9, y = 0, vx = 0, vy = -30330)\n",
    "\n",
    "t_end = 20e10\n",
    "\n",
    "system = System(init=init, me = 5.972e24, ms = 1.989e30, G = 6.67408e-11, t_end=t_end, r = 149.6e9)"
   ]
  },
  {
   "cell_type": "code",
   "execution_count": 185,
   "metadata": {},
   "outputs": [],
   "source": [
    "def universal_gravitation(state, system):\n",
    "    x, y ,vx, vy = state\n",
    "    unpack(system)\n",
    "    Pos = Vector(x,y)\n",
    "    \n",
    "    Fx, Fy = pol2cart(Pos.angle, (G*me*ms)/(r**2))\n",
    "    f_grav = Vector(Fx, Fy)\n",
    "    return f_grav"
   ]
  },
  {
   "cell_type": "code",
   "execution_count": 186,
   "metadata": {},
   "outputs": [
    {
     "data": {
      "text/html": [
       "[3.54227932e+22 0.00000000e+00] dimensionless"
      ],
      "text/latex": [
       "$[3.54227932e+22 0.00000000e+00] dimensionless$"
      ],
      "text/plain": [
       "<Quantity([3.54227932e+22 0.00000000e+00], 'dimensionless')>"
      ]
     },
     "execution_count": 186,
     "metadata": {},
     "output_type": "execute_result"
    }
   ],
   "source": [
    "universal_gravitation(system.init, system)"
   ]
  },
  {
   "cell_type": "code",
   "execution_count": 228,
   "metadata": {},
   "outputs": [],
   "source": [
    "def slope_func(state, t, system):\n",
    "    \"\"\"Compute derivatives of the state.\n",
    "    \n",
    "    state: position, velocity\n",
    "    t: time\n",
    "    system: System object containing `g`\n",
    "    \n",
    "    returns: derivatives of y and v\n",
    "    \"\"\"\n",
    "    x, y, vx, vy = state\n",
    "    unpack(system) \n",
    "    \n",
    "    a_grav = -(universal_gravitation(state, system)/(me))\n",
    "    #(universal_gravitation(state, system)/(me))*((86400)**2)\n",
    "    \n",
    "    v = Vector(vx, vy)\n",
    "    a = a_grav\n",
    "    \n",
    "    return vx, vy, a.x, a.y\n"
   ]
  },
  {
   "cell_type": "code",
   "execution_count": 229,
   "metadata": {},
   "outputs": [
    {
     "data": {
      "text/plain": [
       "(0.0,\n",
       " -30330.0,\n",
       " <Quantity(-0.00593147909577054, 'dimensionless')>,\n",
       " <Quantity(-0.0, 'dimensionless')>)"
      ]
     },
     "execution_count": 229,
     "metadata": {},
     "output_type": "execute_result"
    }
   ],
   "source": [
    "slope_func(system.init, 0, system)"
   ]
  },
  {
   "cell_type": "code",
   "execution_count": 230,
   "metadata": {},
   "outputs": [
    {
     "ename": "IndentationError",
     "evalue": "unexpected indent (<ipython-input-230-3c98ab7e04b1>, line 4)",
     "output_type": "error",
     "traceback": [
      "\u001b[1;36m  File \u001b[1;32m\"<ipython-input-230-3c98ab7e04b1>\"\u001b[1;36m, line \u001b[1;32m4\u001b[0m\n\u001b[1;33m    = state\u001b[0m\n\u001b[1;37m    ^\u001b[0m\n\u001b[1;31mIndentationError\u001b[0m\u001b[1;31m:\u001b[0m unexpected indent\n"
     ]
    }
   ],
   "source": [
    "def event_func(state, t, system):\n",
    "    \"\"\"Return the height of the penny above the sidewalk.\n",
    "    \"\"\"\n",
    "     = state\n",
    "    z = r-695.5e6\n",
    "    return z\n"
   ]
  },
  {
   "cell_type": "code",
   "execution_count": 232,
   "metadata": {},
   "outputs": [
    {
     "data": {
      "text/html": [
       "<div>\n",
       "<style scoped>\n",
       "    .dataframe tbody tr th:only-of-type {\n",
       "        vertical-align: middle;\n",
       "    }\n",
       "\n",
       "    .dataframe tbody tr th {\n",
       "        vertical-align: top;\n",
       "    }\n",
       "\n",
       "    .dataframe thead th {\n",
       "        text-align: right;\n",
       "    }\n",
       "</style>\n",
       "<table border=\"1\" class=\"dataframe\">\n",
       "  <thead>\n",
       "    <tr style=\"text-align: right;\">\n",
       "      <th></th>\n",
       "      <th>values</th>\n",
       "    </tr>\n",
       "  </thead>\n",
       "  <tbody>\n",
       "    <tr>\n",
       "      <th>sol</th>\n",
       "      <td>None</td>\n",
       "    </tr>\n",
       "    <tr>\n",
       "      <th>t_events</th>\n",
       "      <td>[]</td>\n",
       "    </tr>\n",
       "    <tr>\n",
       "      <th>nfev</th>\n",
       "      <td>3866</td>\n",
       "    </tr>\n",
       "    <tr>\n",
       "      <th>njev</th>\n",
       "      <td>0</td>\n",
       "    </tr>\n",
       "    <tr>\n",
       "      <th>nlu</th>\n",
       "      <td>0</td>\n",
       "    </tr>\n",
       "    <tr>\n",
       "      <th>status</th>\n",
       "      <td>0</td>\n",
       "    </tr>\n",
       "    <tr>\n",
       "      <th>message</th>\n",
       "      <td>The solver successfully reached the end of the...</td>\n",
       "    </tr>\n",
       "    <tr>\n",
       "      <th>success</th>\n",
       "      <td>True</td>\n",
       "    </tr>\n",
       "  </tbody>\n",
       "</table>\n",
       "</div>"
      ],
      "text/plain": [
       "sol                                                      None\n",
       "t_events                                                   []\n",
       "nfev                                                     3866\n",
       "njev                                                        0\n",
       "nlu                                                         0\n",
       "status                                                      0\n",
       "message     The solver successfully reached the end of the...\n",
       "success                                                  True\n",
       "dtype: object"
      ]
     },
     "execution_count": 232,
     "metadata": {},
     "output_type": "execute_result"
    }
   ],
   "source": [
    "\n",
    "system.t_end = 2*3.154e7\n",
    "\n",
    "results, details = run_ode_solver(system, slope_func, max_step = 1e5)\n",
    "details"
   ]
  },
  {
   "cell_type": "code",
   "execution_count": 233,
   "metadata": {},
   "outputs": [
    {
     "data": {
      "text/html": [
       "<div>\n",
       "<style scoped>\n",
       "    .dataframe tbody tr th:only-of-type {\n",
       "        vertical-align: middle;\n",
       "    }\n",
       "\n",
       "    .dataframe tbody tr th {\n",
       "        vertical-align: top;\n",
       "    }\n",
       "\n",
       "    .dataframe thead th {\n",
       "        text-align: right;\n",
       "    }\n",
       "</style>\n",
       "<table border=\"1\" class=\"dataframe\">\n",
       "  <thead>\n",
       "    <tr style=\"text-align: right;\">\n",
       "      <th></th>\n",
       "      <th>x</th>\n",
       "      <th>y</th>\n",
       "      <th>vx</th>\n",
       "      <th>vy</th>\n",
       "    </tr>\n",
       "  </thead>\n",
       "  <tbody>\n",
       "    <tr>\n",
       "      <th>0.000000e+00</th>\n",
       "      <td>1.496000e+11</td>\n",
       "      <td>0.000000e+00</td>\n",
       "      <td>0.000000e+00</td>\n",
       "      <td>-30330.000000</td>\n",
       "    </tr>\n",
       "    <tr>\n",
       "      <th>4.662755e-08</th>\n",
       "      <td>1.496000e+11</td>\n",
       "      <td>-1.414214e-03</td>\n",
       "      <td>-2.765703e-10</td>\n",
       "      <td>-30330.000000</td>\n",
       "    </tr>\n",
       "    <tr>\n",
       "      <th>5.129030e-07</th>\n",
       "      <td>1.496000e+11</td>\n",
       "      <td>-1.555635e-02</td>\n",
       "      <td>-3.042274e-09</td>\n",
       "      <td>-30330.000000</td>\n",
       "    </tr>\n",
       "    <tr>\n",
       "      <th>5.175658e-06</th>\n",
       "      <td>1.496000e+11</td>\n",
       "      <td>-1.569777e-01</td>\n",
       "      <td>-3.069931e-08</td>\n",
       "      <td>-30330.000000</td>\n",
       "    </tr>\n",
       "    <tr>\n",
       "      <th>5.180321e-05</th>\n",
       "      <td>1.496000e+11</td>\n",
       "      <td>-1.571191e+00</td>\n",
       "      <td>-3.072696e-07</td>\n",
       "      <td>-30330.000000</td>\n",
       "    </tr>\n",
       "    <tr>\n",
       "      <th>5.180787e-04</th>\n",
       "      <td>1.496000e+11</td>\n",
       "      <td>-1.571333e+01</td>\n",
       "      <td>-3.072973e-06</td>\n",
       "      <td>-30330.000000</td>\n",
       "    </tr>\n",
       "    <tr>\n",
       "      <th>5.180834e-03</th>\n",
       "      <td>1.496000e+11</td>\n",
       "      <td>-1.571347e+02</td>\n",
       "      <td>-3.073001e-05</td>\n",
       "      <td>-30330.000000</td>\n",
       "    </tr>\n",
       "    <tr>\n",
       "      <th>5.180838e-02</th>\n",
       "      <td>1.496000e+11</td>\n",
       "      <td>-1.571348e+03</td>\n",
       "      <td>-3.073003e-04</td>\n",
       "      <td>-30330.000000</td>\n",
       "    </tr>\n",
       "    <tr>\n",
       "      <th>5.180839e-01</th>\n",
       "      <td>1.496000e+11</td>\n",
       "      <td>-1.571348e+04</td>\n",
       "      <td>-3.073004e-03</td>\n",
       "      <td>-30330.000000</td>\n",
       "    </tr>\n",
       "    <tr>\n",
       "      <th>5.180839e+00</th>\n",
       "      <td>1.496000e+11</td>\n",
       "      <td>-1.571348e+05</td>\n",
       "      <td>-3.073004e-02</td>\n",
       "      <td>-30330.000000</td>\n",
       "    </tr>\n",
       "    <tr>\n",
       "      <th>5.180839e+01</th>\n",
       "      <td>1.496000e+11</td>\n",
       "      <td>-1.571348e+06</td>\n",
       "      <td>-3.073004e-01</td>\n",
       "      <td>-30329.999998</td>\n",
       "    </tr>\n",
       "    <tr>\n",
       "      <th>5.180839e+02</th>\n",
       "      <td>1.496000e+11</td>\n",
       "      <td>-1.571348e+07</td>\n",
       "      <td>-3.073004e+00</td>\n",
       "      <td>-30329.999839</td>\n",
       "    </tr>\n",
       "    <tr>\n",
       "      <th>5.180839e+03</th>\n",
       "      <td>1.495999e+11</td>\n",
       "      <td>-1.571348e+08</td>\n",
       "      <td>-3.073003e+01</td>\n",
       "      <td>-30329.983861</td>\n",
       "    </tr>\n",
       "    <tr>\n",
       "      <th>5.180839e+04</th>\n",
       "      <td>1.495920e+11</td>\n",
       "      <td>-1.571321e+09</td>\n",
       "      <td>-3.072947e+02</td>\n",
       "      <td>-30328.386126</td>\n",
       "    </tr>\n",
       "    <tr>\n",
       "      <th>1.518084e+05</th>\n",
       "      <td>1.495317e+11</td>\n",
       "      <td>-4.603647e+09</td>\n",
       "      <td>-9.003061e+02</td>\n",
       "      <td>-30316.144294</td>\n",
       "    </tr>\n",
       "    <tr>\n",
       "      <th>2.518084e+05</th>\n",
       "      <td>1.494120e+11</td>\n",
       "      <td>-7.634149e+09</td>\n",
       "      <td>-1.492948e+03</td>\n",
       "      <td>-30291.883483</td>\n",
       "    </tr>\n",
       "    <tr>\n",
       "      <th>3.518084e+05</th>\n",
       "      <td>1.492331e+11</td>\n",
       "      <td>-1.066162e+10</td>\n",
       "      <td>-2.084975e+03</td>\n",
       "      <td>-30255.614366</td>\n",
       "    </tr>\n",
       "    <tr>\n",
       "      <th>4.518084e+05</th>\n",
       "      <td>1.489950e+11</td>\n",
       "      <td>-1.368487e+10</td>\n",
       "      <td>-2.676146e+03</td>\n",
       "      <td>-30207.352899</td>\n",
       "    </tr>\n",
       "    <tr>\n",
       "      <th>5.518084e+05</th>\n",
       "      <td>1.486979e+11</td>\n",
       "      <td>-1.670270e+10</td>\n",
       "      <td>-3.266218e+03</td>\n",
       "      <td>-30147.120305</td>\n",
       "    </tr>\n",
       "    <tr>\n",
       "      <th>6.518084e+05</th>\n",
       "      <td>1.483418e+11</td>\n",
       "      <td>-1.971390e+10</td>\n",
       "      <td>-3.854948e+03</td>\n",
       "      <td>-30074.943057</td>\n",
       "    </tr>\n",
       "    <tr>\n",
       "      <th>7.518084e+05</th>\n",
       "      <td>1.479270e+11</td>\n",
       "      <td>-2.271729e+10</td>\n",
       "      <td>-4.442095e+03</td>\n",
       "      <td>-29990.852862</td>\n",
       "    </tr>\n",
       "    <tr>\n",
       "      <th>8.518084e+05</th>\n",
       "      <td>1.474535e+11</td>\n",
       "      <td>-2.571167e+10</td>\n",
       "      <td>-5.027417e+03</td>\n",
       "      <td>-29894.886638</td>\n",
       "    </tr>\n",
       "    <tr>\n",
       "      <th>9.518084e+05</th>\n",
       "      <td>1.469215e+11</td>\n",
       "      <td>-2.869587e+10</td>\n",
       "      <td>-5.610677e+03</td>\n",
       "      <td>-29787.086481</td>\n",
       "    </tr>\n",
       "    <tr>\n",
       "      <th>1.051808e+06</th>\n",
       "      <td>1.463314e+11</td>\n",
       "      <td>-3.166870e+10</td>\n",
       "      <td>-6.191634e+03</td>\n",
       "      <td>-29667.499640</td>\n",
       "    </tr>\n",
       "    <tr>\n",
       "      <th>1.151808e+06</th>\n",
       "      <td>1.456833e+11</td>\n",
       "      <td>-3.462898e+10</td>\n",
       "      <td>-6.770052e+03</td>\n",
       "      <td>-29536.178480</td>\n",
       "    </tr>\n",
       "    <tr>\n",
       "      <th>1.251808e+06</th>\n",
       "      <td>1.449775e+11</td>\n",
       "      <td>-3.757554e+10</td>\n",
       "      <td>-7.345694e+03</td>\n",
       "      <td>-29393.180443</td>\n",
       "    </tr>\n",
       "    <tr>\n",
       "      <th>1.351808e+06</th>\n",
       "      <td>1.442143e+11</td>\n",
       "      <td>-4.050723e+10</td>\n",
       "      <td>-7.918326e+03</td>\n",
       "      <td>-29238.568009</td>\n",
       "    </tr>\n",
       "    <tr>\n",
       "      <th>1.451808e+06</th>\n",
       "      <td>1.433939e+11</td>\n",
       "      <td>-4.342287e+10</td>\n",
       "      <td>-8.487715e+03</td>\n",
       "      <td>-29072.408649</td>\n",
       "    </tr>\n",
       "    <tr>\n",
       "      <th>1.551808e+06</th>\n",
       "      <td>1.425168e+11</td>\n",
       "      <td>-4.632133e+10</td>\n",
       "      <td>-9.053629e+03</td>\n",
       "      <td>-28894.774776</td>\n",
       "    </tr>\n",
       "    <tr>\n",
       "      <th>1.651808e+06</th>\n",
       "      <td>1.415833e+11</td>\n",
       "      <td>-4.920145e+10</td>\n",
       "      <td>-9.615839e+03</td>\n",
       "      <td>-28705.743693</td>\n",
       "    </tr>\n",
       "    <tr>\n",
       "      <th>...</th>\n",
       "      <td>...</td>\n",
       "      <td>...</td>\n",
       "      <td>...</td>\n",
       "      <td>...</td>\n",
       "    </tr>\n",
       "    <tr>\n",
       "      <th>6.025181e+07</th>\n",
       "      <td>1.228639e+11</td>\n",
       "      <td>8.925009e+10</td>\n",
       "      <td>1.805013e+04</td>\n",
       "      <td>-23818.170910</td>\n",
       "    </tr>\n",
       "    <tr>\n",
       "      <th>6.035181e+07</th>\n",
       "      <td>1.246448e+11</td>\n",
       "      <td>8.685100e+10</td>\n",
       "      <td>1.756683e+04</td>\n",
       "      <td>-24162.032144</td>\n",
       "    </tr>\n",
       "    <tr>\n",
       "      <th>6.045181e+07</th>\n",
       "      <td>1.263770e+11</td>\n",
       "      <td>8.441800e+10</td>\n",
       "      <td>1.707687e+04</td>\n",
       "      <td>-24496.326085</td>\n",
       "    </tr>\n",
       "    <tr>\n",
       "      <th>6.055181e+07</th>\n",
       "      <td>1.280599e+11</td>\n",
       "      <td>8.195206e+10</td>\n",
       "      <td>1.658044e+04</td>\n",
       "      <td>-24820.931191</td>\n",
       "    </tr>\n",
       "    <tr>\n",
       "      <th>6.065181e+07</th>\n",
       "      <td>1.296929e+11</td>\n",
       "      <td>7.945414e+10</td>\n",
       "      <td>1.607773e+04</td>\n",
       "      <td>-25135.729863</td>\n",
       "    </tr>\n",
       "    <tr>\n",
       "      <th>6.075181e+07</th>\n",
       "      <td>1.312753e+11</td>\n",
       "      <td>7.692524e+10</td>\n",
       "      <td>1.556895e+04</td>\n",
       "      <td>-25440.608460</td>\n",
       "    </tr>\n",
       "    <tr>\n",
       "      <th>6.085181e+07</th>\n",
       "      <td>1.328065e+11</td>\n",
       "      <td>7.436636e+10</td>\n",
       "      <td>1.505429e+04</td>\n",
       "      <td>-25735.457319</td>\n",
       "    </tr>\n",
       "    <tr>\n",
       "      <th>6.095181e+07</th>\n",
       "      <td>1.342859e+11</td>\n",
       "      <td>7.177849e+10</td>\n",
       "      <td>1.453395e+04</td>\n",
       "      <td>-26020.170762</td>\n",
       "    </tr>\n",
       "    <tr>\n",
       "      <th>6.105181e+07</th>\n",
       "      <td>1.357131e+11</td>\n",
       "      <td>6.916266e+10</td>\n",
       "      <td>1.400814e+04</td>\n",
       "      <td>-26294.647116</td>\n",
       "    </tr>\n",
       "    <tr>\n",
       "      <th>6.115181e+07</th>\n",
       "      <td>1.370874e+11</td>\n",
       "      <td>6.651991e+10</td>\n",
       "      <td>1.347706e+04</td>\n",
       "      <td>-26558.788716</td>\n",
       "    </tr>\n",
       "    <tr>\n",
       "      <th>6.125181e+07</th>\n",
       "      <td>1.384083e+11</td>\n",
       "      <td>6.385125e+10</td>\n",
       "      <td>1.294093e+04</td>\n",
       "      <td>-26812.501921</td>\n",
       "    </tr>\n",
       "    <tr>\n",
       "      <th>6.135181e+07</th>\n",
       "      <td>1.396754e+11</td>\n",
       "      <td>6.115776e+10</td>\n",
       "      <td>1.239994e+04</td>\n",
       "      <td>-27055.697114</td>\n",
       "    </tr>\n",
       "    <tr>\n",
       "      <th>6.145181e+07</th>\n",
       "      <td>1.408882e+11</td>\n",
       "      <td>5.844047e+10</td>\n",
       "      <td>1.185430e+04</td>\n",
       "      <td>-27288.288716</td>\n",
       "    </tr>\n",
       "    <tr>\n",
       "      <th>6.155181e+07</th>\n",
       "      <td>1.420461e+11</td>\n",
       "      <td>5.570045e+10</td>\n",
       "      <td>1.130424e+04</td>\n",
       "      <td>-27510.195187</td>\n",
       "    </tr>\n",
       "    <tr>\n",
       "      <th>6.165181e+07</th>\n",
       "      <td>1.431489e+11</td>\n",
       "      <td>5.293879e+10</td>\n",
       "      <td>1.074996e+04</td>\n",
       "      <td>-27721.339029</td>\n",
       "    </tr>\n",
       "    <tr>\n",
       "      <th>6.175181e+07</th>\n",
       "      <td>1.441960e+11</td>\n",
       "      <td>5.015655e+10</td>\n",
       "      <td>1.019166e+04</td>\n",
       "      <td>-27921.646794</td>\n",
       "    </tr>\n",
       "    <tr>\n",
       "      <th>6.185181e+07</th>\n",
       "      <td>1.451871e+11</td>\n",
       "      <td>4.735482e+10</td>\n",
       "      <td>9.629578e+03</td>\n",
       "      <td>-28111.049081</td>\n",
       "    </tr>\n",
       "    <tr>\n",
       "      <th>6.195181e+07</th>\n",
       "      <td>1.461218e+11</td>\n",
       "      <td>4.453470e+10</td>\n",
       "      <td>9.063914e+03</td>\n",
       "      <td>-28289.480539</td>\n",
       "    </tr>\n",
       "    <tr>\n",
       "      <th>6.205181e+07</th>\n",
       "      <td>1.469997e+11</td>\n",
       "      <td>4.169729e+10</td>\n",
       "      <td>8.494888e+03</td>\n",
       "      <td>-28456.879867</td>\n",
       "    </tr>\n",
       "    <tr>\n",
       "      <th>6.215181e+07</th>\n",
       "      <td>1.478207e+11</td>\n",
       "      <td>3.884370e+10</td>\n",
       "      <td>7.922716e+03</td>\n",
       "      <td>-28613.189815</td>\n",
       "    </tr>\n",
       "    <tr>\n",
       "      <th>6.225181e+07</th>\n",
       "      <td>1.485842e+11</td>\n",
       "      <td>3.597503e+10</td>\n",
       "      <td>7.347616e+03</td>\n",
       "      <td>-28758.357179</td>\n",
       "    </tr>\n",
       "    <tr>\n",
       "      <th>6.235181e+07</th>\n",
       "      <td>1.492901e+11</td>\n",
       "      <td>3.309240e+10</td>\n",
       "      <td>6.769807e+03</td>\n",
       "      <td>-28892.332802</td>\n",
       "    </tr>\n",
       "    <tr>\n",
       "      <th>6.245181e+07</th>\n",
       "      <td>1.499381e+11</td>\n",
       "      <td>3.019694e+10</td>\n",
       "      <td>6.189506e+03</td>\n",
       "      <td>-29015.071571</td>\n",
       "    </tr>\n",
       "    <tr>\n",
       "      <th>6.255181e+07</th>\n",
       "      <td>1.505279e+11</td>\n",
       "      <td>2.728976e+10</td>\n",
       "      <td>5.606935e+03</td>\n",
       "      <td>-29126.532413</td>\n",
       "    </tr>\n",
       "    <tr>\n",
       "      <th>6.265181e+07</th>\n",
       "      <td>1.510594e+11</td>\n",
       "      <td>2.437201e+10</td>\n",
       "      <td>5.022311e+03</td>\n",
       "      <td>-29226.678291</td>\n",
       "    </tr>\n",
       "    <tr>\n",
       "      <th>6.275181e+07</th>\n",
       "      <td>1.515323e+11</td>\n",
       "      <td>2.144480e+10</td>\n",
       "      <td>4.435857e+03</td>\n",
       "      <td>-29315.476200</td>\n",
       "    </tr>\n",
       "    <tr>\n",
       "      <th>6.285181e+07</th>\n",
       "      <td>1.519465e+11</td>\n",
       "      <td>1.850929e+10</td>\n",
       "      <td>3.847793e+03</td>\n",
       "      <td>-29392.897163</td>\n",
       "    </tr>\n",
       "    <tr>\n",
       "      <th>6.295181e+07</th>\n",
       "      <td>1.523018e+11</td>\n",
       "      <td>1.556660e+10</td>\n",
       "      <td>3.258340e+03</td>\n",
       "      <td>-29458.916226</td>\n",
       "    </tr>\n",
       "    <tr>\n",
       "      <th>6.305181e+07</th>\n",
       "      <td>1.525981e+11</td>\n",
       "      <td>1.261789e+10</td>\n",
       "      <td>2.667719e+03</td>\n",
       "      <td>-29513.512452</td>\n",
       "    </tr>\n",
       "    <tr>\n",
       "      <th>6.308000e+07</th>\n",
       "      <td>1.526710e+11</td>\n",
       "      <td>1.178566e+10</td>\n",
       "      <td>2.501033e+03</td>\n",
       "      <td>-29526.837518</td>\n",
       "    </tr>\n",
       "  </tbody>\n",
       "</table>\n",
       "<p>645 rows × 4 columns</p>\n",
       "</div>"
      ],
      "text/plain": [
       "                         x             y            vx            vy\n",
       "0.000000e+00  1.496000e+11  0.000000e+00  0.000000e+00 -30330.000000\n",
       "4.662755e-08  1.496000e+11 -1.414214e-03 -2.765703e-10 -30330.000000\n",
       "5.129030e-07  1.496000e+11 -1.555635e-02 -3.042274e-09 -30330.000000\n",
       "5.175658e-06  1.496000e+11 -1.569777e-01 -3.069931e-08 -30330.000000\n",
       "5.180321e-05  1.496000e+11 -1.571191e+00 -3.072696e-07 -30330.000000\n",
       "5.180787e-04  1.496000e+11 -1.571333e+01 -3.072973e-06 -30330.000000\n",
       "5.180834e-03  1.496000e+11 -1.571347e+02 -3.073001e-05 -30330.000000\n",
       "5.180838e-02  1.496000e+11 -1.571348e+03 -3.073003e-04 -30330.000000\n",
       "5.180839e-01  1.496000e+11 -1.571348e+04 -3.073004e-03 -30330.000000\n",
       "5.180839e+00  1.496000e+11 -1.571348e+05 -3.073004e-02 -30330.000000\n",
       "5.180839e+01  1.496000e+11 -1.571348e+06 -3.073004e-01 -30329.999998\n",
       "5.180839e+02  1.496000e+11 -1.571348e+07 -3.073004e+00 -30329.999839\n",
       "5.180839e+03  1.495999e+11 -1.571348e+08 -3.073003e+01 -30329.983861\n",
       "5.180839e+04  1.495920e+11 -1.571321e+09 -3.072947e+02 -30328.386126\n",
       "1.518084e+05  1.495317e+11 -4.603647e+09 -9.003061e+02 -30316.144294\n",
       "2.518084e+05  1.494120e+11 -7.634149e+09 -1.492948e+03 -30291.883483\n",
       "3.518084e+05  1.492331e+11 -1.066162e+10 -2.084975e+03 -30255.614366\n",
       "4.518084e+05  1.489950e+11 -1.368487e+10 -2.676146e+03 -30207.352899\n",
       "5.518084e+05  1.486979e+11 -1.670270e+10 -3.266218e+03 -30147.120305\n",
       "6.518084e+05  1.483418e+11 -1.971390e+10 -3.854948e+03 -30074.943057\n",
       "7.518084e+05  1.479270e+11 -2.271729e+10 -4.442095e+03 -29990.852862\n",
       "8.518084e+05  1.474535e+11 -2.571167e+10 -5.027417e+03 -29894.886638\n",
       "9.518084e+05  1.469215e+11 -2.869587e+10 -5.610677e+03 -29787.086481\n",
       "1.051808e+06  1.463314e+11 -3.166870e+10 -6.191634e+03 -29667.499640\n",
       "1.151808e+06  1.456833e+11 -3.462898e+10 -6.770052e+03 -29536.178480\n",
       "1.251808e+06  1.449775e+11 -3.757554e+10 -7.345694e+03 -29393.180443\n",
       "1.351808e+06  1.442143e+11 -4.050723e+10 -7.918326e+03 -29238.568009\n",
       "1.451808e+06  1.433939e+11 -4.342287e+10 -8.487715e+03 -29072.408649\n",
       "1.551808e+06  1.425168e+11 -4.632133e+10 -9.053629e+03 -28894.774776\n",
       "1.651808e+06  1.415833e+11 -4.920145e+10 -9.615839e+03 -28705.743693\n",
       "...                    ...           ...           ...           ...\n",
       "6.025181e+07  1.228639e+11  8.925009e+10  1.805013e+04 -23818.170910\n",
       "6.035181e+07  1.246448e+11  8.685100e+10  1.756683e+04 -24162.032144\n",
       "6.045181e+07  1.263770e+11  8.441800e+10  1.707687e+04 -24496.326085\n",
       "6.055181e+07  1.280599e+11  8.195206e+10  1.658044e+04 -24820.931191\n",
       "6.065181e+07  1.296929e+11  7.945414e+10  1.607773e+04 -25135.729863\n",
       "6.075181e+07  1.312753e+11  7.692524e+10  1.556895e+04 -25440.608460\n",
       "6.085181e+07  1.328065e+11  7.436636e+10  1.505429e+04 -25735.457319\n",
       "6.095181e+07  1.342859e+11  7.177849e+10  1.453395e+04 -26020.170762\n",
       "6.105181e+07  1.357131e+11  6.916266e+10  1.400814e+04 -26294.647116\n",
       "6.115181e+07  1.370874e+11  6.651991e+10  1.347706e+04 -26558.788716\n",
       "6.125181e+07  1.384083e+11  6.385125e+10  1.294093e+04 -26812.501921\n",
       "6.135181e+07  1.396754e+11  6.115776e+10  1.239994e+04 -27055.697114\n",
       "6.145181e+07  1.408882e+11  5.844047e+10  1.185430e+04 -27288.288716\n",
       "6.155181e+07  1.420461e+11  5.570045e+10  1.130424e+04 -27510.195187\n",
       "6.165181e+07  1.431489e+11  5.293879e+10  1.074996e+04 -27721.339029\n",
       "6.175181e+07  1.441960e+11  5.015655e+10  1.019166e+04 -27921.646794\n",
       "6.185181e+07  1.451871e+11  4.735482e+10  9.629578e+03 -28111.049081\n",
       "6.195181e+07  1.461218e+11  4.453470e+10  9.063914e+03 -28289.480539\n",
       "6.205181e+07  1.469997e+11  4.169729e+10  8.494888e+03 -28456.879867\n",
       "6.215181e+07  1.478207e+11  3.884370e+10  7.922716e+03 -28613.189815\n",
       "6.225181e+07  1.485842e+11  3.597503e+10  7.347616e+03 -28758.357179\n",
       "6.235181e+07  1.492901e+11  3.309240e+10  6.769807e+03 -28892.332802\n",
       "6.245181e+07  1.499381e+11  3.019694e+10  6.189506e+03 -29015.071571\n",
       "6.255181e+07  1.505279e+11  2.728976e+10  5.606935e+03 -29126.532413\n",
       "6.265181e+07  1.510594e+11  2.437201e+10  5.022311e+03 -29226.678291\n",
       "6.275181e+07  1.515323e+11  2.144480e+10  4.435857e+03 -29315.476200\n",
       "6.285181e+07  1.519465e+11  1.850929e+10  3.847793e+03 -29392.897163\n",
       "6.295181e+07  1.523018e+11  1.556660e+10  3.258340e+03 -29458.916226\n",
       "6.305181e+07  1.525981e+11  1.261789e+10  2.667719e+03 -29513.512452\n",
       "6.308000e+07  1.526710e+11  1.178566e+10  2.501033e+03 -29526.837518\n",
       "\n",
       "[645 rows x 4 columns]"
      ]
     },
     "execution_count": 233,
     "metadata": {},
     "output_type": "execute_result"
    }
   ],
   "source": [
    "results"
   ]
  },
  {
   "cell_type": "code",
   "execution_count": 238,
   "metadata": {},
   "outputs": [
    {
     "data": {
      "image/png": "[encoded data removed]",
      "text/plain": [
       "<Figure size 432x288 with 1 Axes>"
      ]
     },
     "metadata": {
      "needs_background": "light"
     },
     "output_type": "display_data"
    }
   ],
   "source": [
    "def plot_position_x(results):\n",
    "    plot(results.x, label = 'x')\n",
    "    decorate (xlabel='time (seconds)',\n",
    "             ylabel='position (meters)')\n",
    "\n",
    "plot_position_x(results)"
   ]
  },
  {
   "cell_type": "code",
   "execution_count": 239,
   "metadata": {},
   "outputs": [
    {
     "data": {
      "image/png": "[encoded data removed]",
      "text/plain": [
       "<Figure size 432x288 with 1 Axes>"
      ]
     },
     "metadata": {
      "needs_background": "light"
     },
     "output_type": "display_data"
    }
   ],
   "source": [
    "def plot_position_y(results):\n",
    "    plot(results.y, label = 'y')\n",
    "    decorate (xlabel='time (seconds)',\n",
    "             ylabel='position (meters)')\n",
    "\n",
    "plot_position_y(results)"
   ]
  },
  {
   "cell_type": "code",
   "execution_count": 240,
   "metadata": {},
   "outputs": [
    {
     "data": {
      "image/png": "[encoded data removed]",
      "text/plain": [
       "<Figure size 432x288 with 1 Axes>"
      ]
     },
     "metadata": {
      "needs_background": "light"
     },
     "output_type": "display_data"
    }
   ],
   "source": [
    "def plot_position_trag(results):\n",
    "    plot(results.x, results.y, label = 'tragectory')\n",
    "    decorate (xlabel='x position',\n",
    "             ylabel='y position')\n",
    "\n",
    "plot_position_trag(results)"
   ]
  },
  {
   "cell_type": "code",
   "execution_count": 70,
   "metadata": {},
   "outputs": [
    {
     "data": {
      "text/plain": [
       "array([64.55336896])"
      ]
     },
     "execution_count": 70,
     "metadata": {},
     "output_type": "execute_result"
    }
   ],
   "source": [
    "t_crossings = crossings(results.r, 695.5e6)"
   ]
  },
  {
   "cell_type": "code",
   "execution_count": 87,
   "metadata": {},
   "outputs": [
    {
     "data": {
      "text/plain": [
       "-53265764225.453766"
      ]
     },
     "execution_count": 87,
     "metadata": {},
     "output_type": "execute_result"
    }
   ],
   "source": [
    "r1 = get_first_value(results.r)\n",
    "r2 = get_last_value(results.r)\n",
    "s1 = get_first_value(results.s)\n",
    "s2 = get_last_value(results.s)"
   ]
  },
  {
   "cell_type": "code",
   "execution_count": 83,
   "metadata": {},
   "outputs": [
    {
     "data": {
      "text/plain": [
       "(5.299249856727273e+33, 1.1398530245379224e+36)"
      ]
     },
     "execution_count": 83,
     "metadata": {},
     "output_type": "execute_result"
    }
   ],
   "source": [
    "gpe1=system.me*r1*system.ms*G/(r1)**2\n",
    "gpe2=system.me*r2*system.ms*G/(r2)**2\n",
    "gpe1, gpe2"
   ]
  },
  {
   "cell_type": "code",
   "execution_count": 89,
   "metadata": {},
   "outputs": [
    {
     "data": {
      "text/plain": [
       "(0.0, 8.472003532625589e+45)"
      ]
     },
     "execution_count": 89,
     "metadata": {},
     "output_type": "execute_result"
    }
   ],
   "source": [
    "ke1 = .5*system.me*(s1)**2\n",
    "ke2 = .5*system.me*(s2)**2\n",
    "ke1, ke2"
   ]
  },
  {
   "cell_type": "code",
   "execution_count": 30,
   "metadata": {},
   "outputs": [],
   "source": [
    "# Solution goes here"
   ]
  },
  {
   "cell_type": "code",
   "execution_count": 31,
   "metadata": {},
   "outputs": [],
   "source": [
    "# Solution goes here"
   ]
  },
  {
   "cell_type": "code",
   "execution_count": 32,
   "metadata": {},
   "outputs": [],
   "source": [
    "# Solution goes here"
   ]
  },
  {
   "cell_type": "code",
   "execution_count": 33,
   "metadata": {},
   "outputs": [],
   "source": [
    "# Solution goes here"
   ]
  },
  {
   "cell_type": "code",
   "execution_count": 34,
   "metadata": {},
   "outputs": [],
   "source": [
    "# Solution goes here"
   ]
  },
  {
   "cell_type": "code",
   "execution_count": 35,
   "metadata": {},
   "outputs": [],
   "source": [
    "# Solution goes here"
   ]
  },
  {
   "cell_type": "code",
   "execution_count": 36,
   "metadata": {},
   "outputs": [],
   "source": [
    "# Solution goes here"
   ]
  },
  {
   "cell_type": "code",
   "execution_count": 37,
   "metadata": {},
   "outputs": [],
   "source": [
    "# Solution goes here"
   ]
  },
  {
   "cell_type": "code",
   "execution_count": 38,
   "metadata": {},
   "outputs": [],
   "source": [
    "# Solution goes here"
   ]
  },
  {
   "cell_type": "code",
   "execution_count": null,
   "metadata": {},
   "outputs": [],
   "source": []
  }
 ],
 "metadata": {
  "kernelspec": {
   "display_name": "Python 3",
   "language": "python",
   "name": "python3"
  },
  "language_info": {
   "codemirror_mode": {
    "name": "ipython",
    "version": 3
   },
   "file_extension": ".py",
   "mimetype": "text/x-python",
   "name": "python",
   "nbconvert_exporter": "python",
   "pygments_lexer": "ipython3",
   "version": "3.6.6"
  }
 },
 "nbformat": 4,
 "nbformat_minor": 2
}
